{
  "nbformat": 4,
  "nbformat_minor": 0,
  "metadata": {
    "colab": {
      "name": "TallerGestionArchivos.ipynb",
      "provenance": [],
      "include_colab_link": true
    },
    "kernelspec": {
      "name": "python3",
      "display_name": "Python 3"
    }
  },
  "cells": [
    {
      "cell_type": "markdown",
      "metadata": {
        "id": "view-in-github",
        "colab_type": "text"
      },
      "source": [
        "<a href=\"https://colab.research.google.com/github/sefigueroacUNAL/Sesion01Demo/blob/master/TallerGestionArchivos.ipynb\" target=\"_parent\"><img src=\"https://colab.research.google.com/assets/colab-badge.svg\" alt=\"Open In Colab\"/></a>"
      ]
    },
    {
      "cell_type": "code",
      "metadata": {
        "id": "sbABZfwXAjPy",
        "colab_type": "code",
        "colab": {}
      },
      "source": [
        "!mkdir practica-bash-1 &&mkdir practica-bash-2 && mkdir practica-bash-3 "
      ],
      "execution_count": 0,
      "outputs": []
    },
    {
      "cell_type": "code",
      "metadata": {
        "id": "14qVfrzNA7bx",
        "colab_type": "code",
        "colab": {
          "base_uri": "https://localhost:8080/",
          "height": 34
        },
        "outputId": "f63d7ae0-d167-47e7-e5fe-a988cd1ae847"
      },
      "source": [
        "cd practica-bash-1"
      ],
      "execution_count": 2,
      "outputs": [
        {
          "output_type": "stream",
          "text": [
            "/content/practica-bash-1\n"
          ],
          "name": "stdout"
        }
      ]
    },
    {
      "cell_type": "code",
      "metadata": {
        "id": "Ko8ZjhgjBAdr",
        "colab_type": "code",
        "colab": {}
      },
      "source": [
        "!mkdir 1 && mkdir 2 && mkdir 3"
      ],
      "execution_count": 0,
      "outputs": []
    },
    {
      "cell_type": "code",
      "metadata": {
        "id": "MtwF7fEfB4bE",
        "colab_type": "code",
        "colab": {}
      },
      "source": [
        "!mkdir 1/1-1 && mkdir 1/1-2 && mkdir 1/1-3"
      ],
      "execution_count": 0,
      "outputs": []
    },
    {
      "cell_type": "code",
      "metadata": {
        "id": "HLtIcaQpChXj",
        "colab_type": "code",
        "colab": {}
      },
      "source": [
        "!mkdir 2/2-1 && mkdir 2/2-2 && mkdir 2/2-3"
      ],
      "execution_count": 0,
      "outputs": []
    },
    {
      "cell_type": "code",
      "metadata": {
        "id": "selxWVEKCmz5",
        "colab_type": "code",
        "colab": {}
      },
      "source": [
        "!mkdir 3/3-1 && mkdir 3/3-2 && mkdir 3/3-3"
      ],
      "execution_count": 0,
      "outputs": []
    },
    {
      "cell_type": "code",
      "metadata": {
        "id": "FCYngvORBJ3o",
        "colab_type": "code",
        "colab": {
          "base_uri": "https://localhost:8080/",
          "height": 34
        },
        "outputId": "ddc9ee6b-5a06-4220-bd20-64bae4789944"
      },
      "source": [
        "!pwd"
      ],
      "execution_count": 8,
      "outputs": [
        {
          "output_type": "stream",
          "text": [
            "/content/practica-bash-1\n"
          ],
          "name": "stdout"
        }
      ]
    },
    {
      "cell_type": "code",
      "metadata": {
        "id": "tVjrxOC2C5pL",
        "colab_type": "code",
        "colab": {}
      },
      "source": [
        "!touch 1/1-1/_SUCCESS && touch 1/1-1/part-0"
      ],
      "execution_count": 0,
      "outputs": []
    },
    {
      "cell_type": "code",
      "metadata": {
        "id": "O7xXZAJRDx8J",
        "colab_type": "code",
        "colab": {
          "base_uri": "https://localhost:8080/",
          "height": 34
        },
        "outputId": "d805cfd1-f84d-4a86-a84a-49a1f905499a"
      },
      "source": [
        "cd 1/1-1"
      ],
      "execution_count": 11,
      "outputs": [
        {
          "output_type": "stream",
          "text": [
            "/content/practica-bash-1/1/1-1\n"
          ],
          "name": "stdout"
        }
      ]
    },
    {
      "cell_type": "code",
      "metadata": {
        "id": "yc2Vlj7uD7Gd",
        "colab_type": "code",
        "colab": {}
      },
      "source": [
        "!cp part-0 part-1 &&cp part-0 part-2"
      ],
      "execution_count": 0,
      "outputs": []
    },
    {
      "cell_type": "code",
      "metadata": {
        "id": "b8pl8-O3EUc2",
        "colab_type": "code",
        "colab": {}
      },
      "source": [
        "!mv part-0 part00001"
      ],
      "execution_count": 0,
      "outputs": []
    },
    {
      "cell_type": "code",
      "metadata": {
        "id": "87Ay43pxEfI0",
        "colab_type": "code",
        "colab": {}
      },
      "source": [
        "!mv part00001 part-0000"
      ],
      "execution_count": 0,
      "outputs": []
    },
    {
      "cell_type": "code",
      "metadata": {
        "id": "vnJwPtgHEsFT",
        "colab_type": "code",
        "colab": {}
      },
      "source": [
        "!mv part-1 part-00001"
      ],
      "execution_count": 0,
      "outputs": []
    },
    {
      "cell_type": "code",
      "metadata": {
        "id": "d25OedVyEvSY",
        "colab_type": "code",
        "colab": {}
      },
      "source": [
        "!mv part-2 part-00002"
      ],
      "execution_count": 0,
      "outputs": []
    },
    {
      "cell_type": "code",
      "metadata": {
        "id": "8y2PyJKpE0-q",
        "colab_type": "code",
        "colab": {}
      },
      "source": [
        "!mv part-0000 part-00000"
      ],
      "execution_count": 0,
      "outputs": []
    },
    {
      "cell_type": "code",
      "metadata": {
        "id": "LOK0B-dkFBuk",
        "colab_type": "code",
        "colab": {
          "base_uri": "https://localhost:8080/",
          "height": 34
        },
        "outputId": "ce62b88b-24ce-4d07-8b88-96d6c2919057"
      },
      "source": [
        "!echo ~"
      ],
      "execution_count": 22,
      "outputs": [
        {
          "output_type": "stream",
          "text": [
            "/root\n"
          ],
          "name": "stdout"
        }
      ]
    },
    {
      "cell_type": "code",
      "metadata": {
        "id": "kNoQvKrLFRYp",
        "colab_type": "code",
        "colab": {
          "base_uri": "https://localhost:8080/",
          "height": 34
        },
        "outputId": "030ff2fb-0b09-4919-efc1-79d729b318c0"
      },
      "source": [
        "cd /content/practica-bash-1/"
      ],
      "execution_count": 23,
      "outputs": [
        {
          "output_type": "stream",
          "text": [
            "/content/practica-bash-1\n"
          ],
          "name": "stdout"
        }
      ]
    },
    {
      "cell_type": "code",
      "metadata": {
        "id": "lcSuHJIhFXZM",
        "colab_type": "code",
        "colab": {
          "base_uri": "https://localhost:8080/",
          "height": 309
        },
        "outputId": "e56dbe56-ccec-4e86-f19a-0f8299f10ec4"
      },
      "source": [
        "!apt-get install tree"
      ],
      "execution_count": 26,
      "outputs": [
        {
          "output_type": "stream",
          "text": [
            "Reading package lists... Done\n",
            "Building dependency tree       \n",
            "Reading state information... Done\n",
            "The following NEW packages will be installed:\n",
            "  tree\n",
            "0 upgraded, 1 newly installed, 0 to remove and 8 not upgraded.\n",
            "Need to get 40.7 kB of archives.\n",
            "After this operation, 105 kB of additional disk space will be used.\n",
            "Get:1 http://archive.ubuntu.com/ubuntu bionic/universe amd64 tree amd64 1.7.0-5 [40.7 kB]\n",
            "Fetched 40.7 kB in 1s (66.7 kB/s)\n",
            "Selecting previously unselected package tree.\n",
            "(Reading database ... 131183 files and directories currently installed.)\n",
            "Preparing to unpack .../tree_1.7.0-5_amd64.deb ...\n",
            "Unpacking tree (1.7.0-5) ...\n",
            "Setting up tree (1.7.0-5) ...\n",
            "Processing triggers for man-db (2.8.3-2ubuntu0.1) ...\n"
          ],
          "name": "stdout"
        }
      ]
    },
    {
      "cell_type": "code",
      "metadata": {
        "id": "qmsCDeCVFsUh",
        "colab_type": "code",
        "colab": {
          "base_uri": "https://localhost:8080/",
          "height": 340
        },
        "outputId": "14a05360-8ab2-46ce-9f13-e9b30b5c6f3f"
      },
      "source": [
        "!tree"
      ],
      "execution_count": 28,
      "outputs": [
        {
          "output_type": "stream",
          "text": [
            ".\n",
            "├── 1\n",
            "│   ├── 1-1\n",
            "│   │   ├── part-00000\n",
            "│   │   ├── part-00001\n",
            "│   │   ├── part-00002\n",
            "│   │   └── _SUCCESS\n",
            "│   ├── 1-2\n",
            "│   └── 1-3\n",
            "├── 2\n",
            "│   ├── 2-1\n",
            "│   ├── 2-2\n",
            "│   └── 2-3\n",
            "└── 3\n",
            "    ├── 3-1\n",
            "    ├── 3-2\n",
            "    └── 3-3\n",
            "\n",
            "12 directories, 4 files\n"
          ],
          "name": "stdout"
        }
      ]
    },
    {
      "cell_type": "code",
      "metadata": {
        "id": "xH4RlZ9GGbym",
        "colab_type": "code",
        "colab": {
          "base_uri": "https://localhost:8080/",
          "height": 34
        },
        "outputId": "fda71f74-376a-49d0-a904-c0ceae7ca632"
      },
      "source": [
        "cd 1"
      ],
      "execution_count": 29,
      "outputs": [
        {
          "output_type": "stream",
          "text": [
            "/content/practica-bash-1/1\n"
          ],
          "name": "stdout"
        }
      ]
    },
    {
      "cell_type": "code",
      "metadata": {
        "id": "jShbrQ-cGkp_",
        "colab_type": "code",
        "colab": {}
      },
      "source": [
        "mv 1/1-1/* 3/3-3"
      ],
      "execution_count": 0,
      "outputs": []
    },
    {
      "cell_type": "code",
      "metadata": {
        "id": "mABHDCTkHB2b",
        "colab_type": "code",
        "colab": {
          "base_uri": "https://localhost:8080/",
          "height": 34
        },
        "outputId": "32519b6a-7ed0-4ce9-ffe8-c2a19e9b5b0e"
      },
      "source": [
        "cd /content/"
      ],
      "execution_count": 35,
      "outputs": [
        {
          "output_type": "stream",
          "text": [
            "/content\n"
          ],
          "name": "stdout"
        }
      ]
    },
    {
      "cell_type": "code",
      "metadata": {
        "id": "gEzR58GdHS-n",
        "colab_type": "code",
        "colab": {}
      },
      "source": [
        "!rm -rf practica-bash-1"
      ],
      "execution_count": 0,
      "outputs": []
    }
  ]
}