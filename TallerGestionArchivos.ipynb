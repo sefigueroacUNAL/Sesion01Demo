{
  "nbformat": 4,
  "nbformat_minor": 0,
  "metadata": {
    "colab": {
      "name": "TallerGestionArchivos.ipynb",
      "provenance": [],
      "include_colab_link": true
    },
    "kernelspec": {
      "name": "python3",
      "display_name": "Python 3"
    }
  },
  "cells": [
    {
      "cell_type": "markdown",
      "metadata": {
        "id": "view-in-github",
        "colab_type": "text"
      },
      "source": [
        "<a href=\"https://colab.research.google.com/github/sefigueroacUNAL/Sesion01Demo/blob/master/TallerGestionArchivos.ipynb\" target=\"_parent\"><img src=\"https://colab.research.google.com/assets/colab-badge.svg\" alt=\"Open In Colab\"/></a>"
      ]
    },
    {
      "cell_type": "code",
      "metadata": {
        "id": "14qVfrzNA7bx",
        "colab_type": "code",
        "outputId": "1c62a096-8f30-4b83-f401-9c30f1b043f9",
        "colab": {
          "base_uri": "https://localhost:8080/",
          "height": 34
        }
      },
      "source": [
        "!pwd"
      ],
      "execution_count": 1,
      "outputs": [
        {
          "output_type": "stream",
          "text": [
            "/content\n"
          ],
          "name": "stdout"
        }
      ]
    },
    {
      "cell_type": "code",
      "metadata": {
        "id": "9SDPwxQDPE06",
        "colab_type": "code",
        "colab": {}
      },
      "source": [
        "!mkdir practica-bash-1"
      ],
      "execution_count": 0,
      "outputs": []
    },
    {
      "cell_type": "code",
      "metadata": {
        "id": "tAu6JBWAP1Cn",
        "colab_type": "code",
        "colab": {
          "base_uri": "https://localhost:8080/",
          "height": 34
        },
        "outputId": "f1154225-494b-4f7e-a7b2-284f4d9c871e"
      },
      "source": [
        "cd practica-bash-1"
      ],
      "execution_count": 3,
      "outputs": [
        {
          "output_type": "stream",
          "text": [
            "/content/practica-bash-1\n"
          ],
          "name": "stdout"
        }
      ]
    },
    {
      "cell_type": "code",
      "metadata": {
        "id": "Ko8ZjhgjBAdr",
        "colab_type": "code",
        "colab": {}
      },
      "source": [
        "!mkdir 1 && mkdir 2 && mkdir 3"
      ],
      "execution_count": 0,
      "outputs": []
    },
    {
      "cell_type": "code",
      "metadata": {
        "id": "MtwF7fEfB4bE",
        "colab_type": "code",
        "colab": {}
      },
      "source": [
        "!mkdir 1/1-1 && mkdir 1/1-2 && mkdir 1/1-3"
      ],
      "execution_count": 0,
      "outputs": []
    },
    {
      "cell_type": "code",
      "metadata": {
        "id": "HLtIcaQpChXj",
        "colab_type": "code",
        "colab": {}
      },
      "source": [
        "!mkdir 2/2-1 && mkdir 2/2-2 && mkdir 2/2-3"
      ],
      "execution_count": 0,
      "outputs": []
    },
    {
      "cell_type": "code",
      "metadata": {
        "id": "selxWVEKCmz5",
        "colab_type": "code",
        "colab": {}
      },
      "source": [
        "!mkdir 3/3-1 && mkdir 3/3-2 && mkdir 3/3-3"
      ],
      "execution_count": 0,
      "outputs": []
    },
    {
      "cell_type": "code",
      "metadata": {
        "id": "FCYngvORBJ3o",
        "colab_type": "code",
        "outputId": "ba324181-1a5c-4ee6-ba1b-de6a7d539fdb",
        "colab": {
          "base_uri": "https://localhost:8080/",
          "height": 34
        }
      },
      "source": [
        "!pwd"
      ],
      "execution_count": 8,
      "outputs": [
        {
          "output_type": "stream",
          "text": [
            "/content/practica-bash-1\n"
          ],
          "name": "stdout"
        }
      ]
    },
    {
      "cell_type": "code",
      "metadata": {
        "id": "tVjrxOC2C5pL",
        "colab_type": "code",
        "colab": {}
      },
      "source": [
        "!touch 1/1-1/_SUCCESS && touch 1/1-1/part-0"
      ],
      "execution_count": 0,
      "outputs": []
    },
    {
      "cell_type": "code",
      "metadata": {
        "id": "O7xXZAJRDx8J",
        "colab_type": "code",
        "outputId": "acdec56b-b11c-4f37-d99c-8a8686766bf0",
        "colab": {
          "base_uri": "https://localhost:8080/",
          "height": 34
        }
      },
      "source": [
        "cd 1/1-1"
      ],
      "execution_count": 10,
      "outputs": [
        {
          "output_type": "stream",
          "text": [
            "/content/practica-bash-1/1/1-1\n"
          ],
          "name": "stdout"
        }
      ]
    },
    {
      "cell_type": "code",
      "metadata": {
        "id": "yc2Vlj7uD7Gd",
        "colab_type": "code",
        "colab": {}
      },
      "source": [
        "!cp part-0 part-1 &&cp part-0 part-2"
      ],
      "execution_count": 0,
      "outputs": []
    },
    {
      "cell_type": "code",
      "metadata": {
        "id": "b8pl8-O3EUc2",
        "colab_type": "code",
        "colab": {}
      },
      "source": [
        "!mv part-0 part-00000"
      ],
      "execution_count": 0,
      "outputs": []
    },
    {
      "cell_type": "code",
      "metadata": {
        "id": "vnJwPtgHEsFT",
        "colab_type": "code",
        "colab": {}
      },
      "source": [
        "!mv part-1 part-00001"
      ],
      "execution_count": 0,
      "outputs": []
    },
    {
      "cell_type": "code",
      "metadata": {
        "id": "12xtvhtRMfbf",
        "colab_type": "code",
        "outputId": "a3226cbf-72ea-459d-ebc8-42f81c229a8f",
        "colab": {
          "base_uri": "https://localhost:8080/",
          "height": 34
        }
      },
      "source": [
        "cd /content/practica-bash-1/1/1-1"
      ],
      "execution_count": 14,
      "outputs": [
        {
          "output_type": "stream",
          "text": [
            "/content/practica-bash-1/1/1-1\n"
          ],
          "name": "stdout"
        }
      ]
    },
    {
      "cell_type": "code",
      "metadata": {
        "id": "d25OedVyEvSY",
        "colab_type": "code",
        "colab": {}
      },
      "source": [
        "!mv part-2 part-00002"
      ],
      "execution_count": 0,
      "outputs": []
    },
    {
      "cell_type": "code",
      "metadata": {
        "id": "kNoQvKrLFRYp",
        "colab_type": "code",
        "outputId": "f7b6e85d-6b63-4238-e54a-272a596a8d26",
        "colab": {
          "base_uri": "https://localhost:8080/",
          "height": 34
        }
      },
      "source": [
        "cd /content/practica-bash-1/"
      ],
      "execution_count": 16,
      "outputs": [
        {
          "output_type": "stream",
          "text": [
            "/content/practica-bash-1\n"
          ],
          "name": "stdout"
        }
      ]
    },
    {
      "cell_type": "code",
      "metadata": {
        "id": "lcSuHJIhFXZM",
        "colab_type": "code",
        "outputId": "0164f0e6-b70d-40b9-c1be-7a29d60b6bad",
        "colab": {
          "base_uri": "https://localhost:8080/",
          "height": 289
        }
      },
      "source": [
        "!apt-get install tree"
      ],
      "execution_count": 17,
      "outputs": [
        {
          "output_type": "stream",
          "text": [
            "Reading package lists... Done\n",
            "Building dependency tree       \n",
            "Reading state information... Done\n",
            "The following NEW packages will be installed:\n",
            "  tree\n",
            "0 upgraded, 1 newly installed, 0 to remove and 8 not upgraded.\n",
            "Need to get 40.7 kB of archives.\n",
            "After this operation, 105 kB of additional disk space will be used.\n",
            "Get:1 http://archive.ubuntu.com/ubuntu bionic/universe amd64 tree amd64 1.7.0-5 [40.7 kB]\n",
            "Fetched 40.7 kB in 0s (91.0 kB/s)\n",
            "Selecting previously unselected package tree.\n",
            "(Reading database ... 131183 files and directories currently installed.)\n",
            "Preparing to unpack .../tree_1.7.0-5_amd64.deb ...\n",
            "Unpacking tree (1.7.0-5) ...\n",
            "Setting up tree (1.7.0-5) ...\n",
            "Processing triggers for man-db (2.8.3-2ubuntu0.1) ...\n"
          ],
          "name": "stdout"
        }
      ]
    },
    {
      "cell_type": "code",
      "metadata": {
        "id": "NaN342fRLhmx",
        "colab_type": "code",
        "outputId": "3dc4ce6c-cd2c-4208-c4d6-bc6ca1c1a329",
        "colab": {
          "base_uri": "https://localhost:8080/",
          "height": 34
        }
      },
      "source": [
        "cd /content/practica-bash-1/"
      ],
      "execution_count": 18,
      "outputs": [
        {
          "output_type": "stream",
          "text": [
            "/content/practica-bash-1\n"
          ],
          "name": "stdout"
        }
      ]
    },
    {
      "cell_type": "code",
      "metadata": {
        "id": "qmsCDeCVFsUh",
        "colab_type": "code",
        "outputId": "9f5a7442-dfaf-4c7b-826b-c873b83f6355",
        "colab": {
          "base_uri": "https://localhost:8080/",
          "height": 340
        }
      },
      "source": [
        "!tree"
      ],
      "execution_count": 19,
      "outputs": [
        {
          "output_type": "stream",
          "text": [
            ".\n",
            "├── 1\n",
            "│   ├── 1-1\n",
            "│   │   ├── part-00000\n",
            "│   │   ├── part-00001\n",
            "│   │   ├── part-00002\n",
            "│   │   └── _SUCCESS\n",
            "│   ├── 1-2\n",
            "│   └── 1-3\n",
            "├── 2\n",
            "│   ├── 2-1\n",
            "│   ├── 2-2\n",
            "│   └── 2-3\n",
            "└── 3\n",
            "    ├── 3-1\n",
            "    ├── 3-2\n",
            "    └── 3-3\n",
            "\n",
            "12 directories, 4 files\n"
          ],
          "name": "stdout"
        }
      ]
    },
    {
      "cell_type": "code",
      "metadata": {
        "id": "xH4RlZ9GGbym",
        "colab_type": "code",
        "colab": {}
      },
      "source": [
        ""
      ],
      "execution_count": 0,
      "outputs": []
    },
    {
      "cell_type": "code",
      "metadata": {
        "id": "jShbrQ-cGkp_",
        "colab_type": "code",
        "colab": {}
      },
      "source": [
        "mv 1/1-1/* 3/3-3"
      ],
      "execution_count": 0,
      "outputs": []
    },
    {
      "cell_type": "code",
      "metadata": {
        "id": "gD6g-1auKIml",
        "colab_type": "code",
        "outputId": "764c3e59-12b2-46b5-ef40-502990d5cc0a",
        "colab": {
          "base_uri": "https://localhost:8080/",
          "height": 340
        }
      },
      "source": [
        "!tree"
      ],
      "execution_count": 21,
      "outputs": [
        {
          "output_type": "stream",
          "text": [
            ".\n",
            "├── 1\n",
            "│   ├── 1-1\n",
            "│   ├── 1-2\n",
            "│   └── 1-3\n",
            "├── 2\n",
            "│   ├── 2-1\n",
            "│   ├── 2-2\n",
            "│   └── 2-3\n",
            "└── 3\n",
            "    ├── 3-1\n",
            "    ├── 3-2\n",
            "    └── 3-3\n",
            "        ├── part-00000\n",
            "        ├── part-00001\n",
            "        ├── part-00002\n",
            "        └── _SUCCESS\n",
            "\n",
            "12 directories, 4 files\n"
          ],
          "name": "stdout"
        }
      ]
    },
    {
      "cell_type": "code",
      "metadata": {
        "id": "28KBrSs0JHiA",
        "colab_type": "code",
        "outputId": "5bda0909-6cb6-47c0-b893-cb27a786ea43",
        "colab": {
          "base_uri": "https://localhost:8080/",
          "height": 34
        }
      },
      "source": [
        "cd /content/"
      ],
      "execution_count": 22,
      "outputs": [
        {
          "output_type": "stream",
          "text": [
            "/content\n"
          ],
          "name": "stdout"
        }
      ]
    },
    {
      "cell_type": "code",
      "metadata": {
        "id": "mABHDCTkHB2b",
        "colab_type": "code",
        "colab": {}
      },
      "source": [
        ""
      ],
      "execution_count": 0,
      "outputs": []
    },
    {
      "cell_type": "code",
      "metadata": {
        "id": "gEzR58GdHS-n",
        "colab_type": "code",
        "colab": {}
      },
      "source": [
        "!cd /content/ && rm -rf practica-bash-1"
      ],
      "execution_count": 0,
      "outputs": []
    },
    {
      "cell_type": "code",
      "metadata": {
        "id": "OHHrrsKeKN4m",
        "colab_type": "code",
        "colab": {}
      },
      "source": [
        ""
      ],
      "execution_count": 0,
      "outputs": []
    }
  ]
}