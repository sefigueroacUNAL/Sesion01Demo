{
  "nbformat": 4,
  "nbformat_minor": 0,
  "metadata": {
    "colab": {
      "name": "Session_2019_09_.ipynb",
      "provenance": [],
      "include_colab_link": true
    },
    "kernelspec": {
      "name": "python3",
      "display_name": "Python 3"
    }
  },
  "cells": [
    {
      "cell_type": "markdown",
      "metadata": {
        "id": "view-in-github",
        "colab_type": "text"
      },
      "source": [
        "<a href=\"https://colab.research.google.com/github/sefigueroacUNAL/Sesion01Demo/blob/master/Session_2019_09_.ipynb\" target=\"_parent\"><img src=\"https://colab.research.google.com/assets/colab-badge.svg\" alt=\"Open In Colab\"/></a>"
      ]
    },
    {
      "cell_type": "code",
      "metadata": {
        "id": "jR8LquJdwQDE",
        "colab_type": "code",
        "outputId": "c7f6fe26-3811-40c8-8bb7-760b510ed1b9",
        "colab": {
          "base_uri": "https://localhost:8080/",
          "height": 85
        }
      },
      "source": [
        "!seq -f \"linea1 %g\" 4"
      ],
      "execution_count": 0,
      "outputs": [
        {
          "output_type": "stream",
          "text": [
            "linea1 1\n",
            "linea1 2\n",
            "linea1 3\n",
            "linea1 4\n"
          ],
          "name": "stdout"
        }
      ]
    },
    {
      "cell_type": "code",
      "metadata": {
        "id": "mrUgJv1qxDh6",
        "colab_type": "code",
        "outputId": "c873af6f-5dd6-4a5a-e74c-b2b376e726ac",
        "colab": {
          "base_uri": "https://localhost:8080/",
          "height": 34
        }
      },
      "source": [
        "!echo hola        mundo"
      ],
      "execution_count": 0,
      "outputs": [
        {
          "output_type": "stream",
          "text": [
            "hola mundo\n"
          ],
          "name": "stdout"
        }
      ]
    },
    {
      "cell_type": "code",
      "metadata": {
        "id": "iohAIpqxxICU",
        "colab_type": "code",
        "outputId": "c871100c-5aa4-4b84-8796-88d6dbabb813",
        "colab": {
          "base_uri": "https://localhost:8080/",
          "height": 34
        }
      },
      "source": [
        "!echo 'hola        mundo'"
      ],
      "execution_count": 0,
      "outputs": [
        {
          "output_type": "stream",
          "text": [
            "hola        mundo\n"
          ],
          "name": "stdout"
        }
      ]
    },
    {
      "cell_type": "code",
      "metadata": {
        "id": "TlX8fa24xNCt",
        "colab_type": "code",
        "outputId": "87db851b-b68e-4560-e58a-cf0bb22848ce",
        "colab": {
          "base_uri": "https://localhost:8080/",
          "height": 34
        }
      },
      "source": [
        "!echo \"hola     mundo\""
      ],
      "execution_count": 0,
      "outputs": [
        {
          "output_type": "stream",
          "text": [
            "hola     mundo\n"
          ],
          "name": "stdout"
        }
      ]
    },
    {
      "cell_type": "code",
      "metadata": {
        "id": "qWi1_6GJxS_D",
        "colab_type": "code",
        "outputId": "e23af646-5baf-4707-c03d-f4a3daf16cad",
        "colab": {
          "base_uri": "https://localhost:8080/",
          "height": 34
        }
      },
      "source": [
        "!echo \"hola \\\n",
        "    mundo\""
      ],
      "execution_count": 0,
      "outputs": [
        {
          "output_type": "stream",
          "text": [
            "hola     mundo\n"
          ],
          "name": "stdout"
        }
      ]
    },
    {
      "cell_type": "code",
      "metadata": {
        "id": "IEuebclGxZqS",
        "colab_type": "code",
        "outputId": "bb633d95-fce9-4c43-f261-417b3698457d",
        "colab": {
          "base_uri": "https://localhost:8080/",
          "height": 34
        }
      },
      "source": [
        "!echo hola \\\n",
        "mundo"
      ],
      "execution_count": 0,
      "outputs": [
        {
          "output_type": "stream",
          "text": [
            "hola mundo\n"
          ],
          "name": "stdout"
        }
      ]
    },
    {
      "cell_type": "code",
      "metadata": {
        "id": "SWFRbvFrxs03",
        "colab_type": "code",
        "outputId": "07ab462c-1da3-47a3-c6e0-1d292c041725",
        "colab": {
          "base_uri": "https://localhost:8080/",
          "height": 34
        }
      },
      "source": [
        "!printf \"%10s- está aprendiendo %d\" Se 4"
      ],
      "execution_count": 0,
      "outputs": [
        {
          "output_type": "stream",
          "text": [
            "        Se- está aprendiendo 4"
          ],
          "name": "stdout"
        }
      ]
    },
    {
      "cell_type": "code",
      "metadata": {
        "id": "D5fK0c_wyaEq",
        "colab_type": "code",
        "outputId": "ad558f39-2fd7-4761-8fa2-131e64c742cf",
        "colab": {
          "base_uri": "https://localhost:8080/",
          "height": 34
        }
      },
      "source": [
        "!printf \"El entero es: %8.2f\" 123.12345678"
      ],
      "execution_count": 0,
      "outputs": [
        {
          "output_type": "stream",
          "text": [
            "El entero es:   123.12"
          ],
          "name": "stdout"
        }
      ]
    },
    {
      "cell_type": "code",
      "metadata": {
        "id": "Pu_q3cH4zMBX",
        "colab_type": "code",
        "outputId": "8c0327dc-3290-4170-a00b-d731055ffc68",
        "colab": {
          "base_uri": "https://localhost:8080/",
          "height": 68
        }
      },
      "source": [
        "!seq -f\"Se- el string tiene un tamaño de 2 %g\" 3"
      ],
      "execution_count": 0,
      "outputs": [
        {
          "output_type": "stream",
          "text": [
            "Se- el string tiene un tamaño de 2 1\n",
            "Se- el string tiene un tamaño de 2 2\n",
            "Se- el string tiene un tamaño de 2 3\n"
          ],
          "name": "stdout"
        }
      ]
    },
    {
      "cell_type": "code",
      "metadata": {
        "id": "eTpoAgABz1Lu",
        "colab_type": "code",
        "colab": {}
      },
      "source": [
        "#Next we will have a magic command"
      ],
      "execution_count": 0,
      "outputs": []
    },
    {
      "cell_type": "code",
      "metadata": {
        "id": "tvZ9naiB0-VX",
        "colab_type": "code",
        "outputId": "42295f66-ba68-4b5d-e0aa-996899b80fd4",
        "colab": {
          "base_uri": "https://localhost:8080/",
          "height": 85
        }
      },
      "source": [
        "%%bash\n",
        "echo 1\n",
        "echo 2\n",
        "echo 3\n",
        "echo 4"
      ],
      "execution_count": 0,
      "outputs": [
        {
          "output_type": "stream",
          "text": [
            "1\n",
            "2\n",
            "3\n",
            "4\n"
          ],
          "name": "stdout"
        }
      ]
    },
    {
      "cell_type": "code",
      "metadata": {
        "id": "JJcy0Ia-1ZFl",
        "colab_type": "code",
        "outputId": "d66a6253-9999-4cfc-ce30-a18d46009a6f",
        "colab": {
          "base_uri": "https://localhost:8080/",
          "height": 34
        }
      },
      "source": [
        "%%capture"
      ],
      "execution_count": 0,
      "outputs": [
        {
          "output_type": "stream",
          "text": [
            "UsageError: %%capture is a cell magic, but the cell body is empty.\n"
          ],
          "name": "stderr"
        }
      ]
    }
  ]
}