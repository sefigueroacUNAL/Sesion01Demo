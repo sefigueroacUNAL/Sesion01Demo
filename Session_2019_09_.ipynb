{
  "nbformat": 4,
  "nbformat_minor": 0,
  "metadata": {
    "colab": {
      "name": "Session_2019_09_.ipynb",
      "provenance": [],
      "include_colab_link": true
    },
    "kernelspec": {
      "name": "python3",
      "display_name": "Python 3"
    }
  },
  "cells": [
    {
      "cell_type": "markdown",
      "metadata": {
        "id": "view-in-github",
        "colab_type": "text"
      },
      "source": [
        "<a href=\"https://colab.research.google.com/github/sefigueroacUNAL/Sesion01Demo/blob/master/Session_2019_09_.ipynb\" target=\"_parent\"><img src=\"https://colab.research.google.com/assets/colab-badge.svg\" alt=\"Open In Colab\"/></a>"
      ]
    },
    {
      "cell_type": "code",
      "metadata": {
        "id": "jR8LquJdwQDE",
        "colab_type": "code",
        "outputId": "c7f6fe26-3811-40c8-8bb7-760b510ed1b9",
        "colab": {
          "base_uri": "https://localhost:8080/",
          "height": 85
        }
      },
      "source": [
        "!seq -f \"linea1 %g\" 4"
      ],
      "execution_count": 0,
      "outputs": [
        {
          "output_type": "stream",
          "text": [
            "linea1 1\n",
            "linea1 2\n",
            "linea1 3\n",
            "linea1 4\n"
          ],
          "name": "stdout"
        }
      ]
    },
    {
      "cell_type": "code",
      "metadata": {
        "id": "mrUgJv1qxDh6",
        "colab_type": "code",
        "outputId": "c873af6f-5dd6-4a5a-e74c-b2b376e726ac",
        "colab": {
          "base_uri": "https://localhost:8080/",
          "height": 34
        }
      },
      "source": [
        "!echo hola        mundo"
      ],
      "execution_count": 0,
      "outputs": [
        {
          "output_type": "stream",
          "text": [
            "hola mundo\n"
          ],
          "name": "stdout"
        }
      ]
    },
    {
      "cell_type": "code",
      "metadata": {
        "id": "iohAIpqxxICU",
        "colab_type": "code",
        "outputId": "c871100c-5aa4-4b84-8796-88d6dbabb813",
        "colab": {
          "base_uri": "https://localhost:8080/",
          "height": 34
        }
      },
      "source": [
        "!echo 'hola        mundo'"
      ],
      "execution_count": 0,
      "outputs": [
        {
          "output_type": "stream",
          "text": [
            "hola        mundo\n"
          ],
          "name": "stdout"
        }
      ]
    },
    {
      "cell_type": "code",
      "metadata": {
        "id": "TlX8fa24xNCt",
        "colab_type": "code",
        "outputId": "87db851b-b68e-4560-e58a-cf0bb22848ce",
        "colab": {
          "base_uri": "https://localhost:8080/",
          "height": 34
        }
      },
      "source": [
        "!echo \"hola     mundo\""
      ],
      "execution_count": 0,
      "outputs": [
        {
          "output_type": "stream",
          "text": [
            "hola     mundo\n"
          ],
          "name": "stdout"
        }
      ]
    },
    {
      "cell_type": "code",
      "metadata": {
        "id": "qWi1_6GJxS_D",
        "colab_type": "code",
        "outputId": "e23af646-5baf-4707-c03d-f4a3daf16cad",
        "colab": {
          "base_uri": "https://localhost:8080/",
          "height": 34
        }
      },
      "source": [
        "!echo \"hola \\\n",
        "    mundo\""
      ],
      "execution_count": 0,
      "outputs": [
        {
          "output_type": "stream",
          "text": [
            "hola     mundo\n"
          ],
          "name": "stdout"
        }
      ]
    },
    {
      "cell_type": "code",
      "metadata": {
        "id": "IEuebclGxZqS",
        "colab_type": "code",
        "outputId": "bb633d95-fce9-4c43-f261-417b3698457d",
        "colab": {
          "base_uri": "https://localhost:8080/",
          "height": 34
        }
      },
      "source": [
        "!echo hola \\\n",
        "mundo"
      ],
      "execution_count": 0,
      "outputs": [
        {
          "output_type": "stream",
          "text": [
            "hola mundo\n"
          ],
          "name": "stdout"
        }
      ]
    },
    {
      "cell_type": "code",
      "metadata": {
        "id": "SWFRbvFrxs03",
        "colab_type": "code",
        "outputId": "07ab462c-1da3-47a3-c6e0-1d292c041725",
        "colab": {
          "base_uri": "https://localhost:8080/",
          "height": 34
        }
      },
      "source": [
        "!printf \"%10s- está aprendiendo %d\" Se 4"
      ],
      "execution_count": 0,
      "outputs": [
        {
          "output_type": "stream",
          "text": [
            "        Se- está aprendiendo 4"
          ],
          "name": "stdout"
        }
      ]
    },
    {
      "cell_type": "code",
      "metadata": {
        "id": "D5fK0c_wyaEq",
        "colab_type": "code",
        "outputId": "ad558f39-2fd7-4761-8fa2-131e64c742cf",
        "colab": {
          "base_uri": "https://localhost:8080/",
          "height": 34
        }
      },
      "source": [
        "!printf \"El entero es: %8.2f\" 123.12345678"
      ],
      "execution_count": 0,
      "outputs": [
        {
          "output_type": "stream",
          "text": [
            "El entero es:   123.12"
          ],
          "name": "stdout"
        }
      ]
    },
    {
      "cell_type": "code",
      "metadata": {
        "id": "Pu_q3cH4zMBX",
        "colab_type": "code",
        "outputId": "8c0327dc-3290-4170-a00b-d731055ffc68",
        "colab": {
          "base_uri": "https://localhost:8080/",
          "height": 68
        }
      },
      "source": [
        "!seq -f\"Se- el string tiene un tamaño de 2 %g\" 3"
      ],
      "execution_count": 0,
      "outputs": [
        {
          "output_type": "stream",
          "text": [
            "Se- el string tiene un tamaño de 2 1\n",
            "Se- el string tiene un tamaño de 2 2\n",
            "Se- el string tiene un tamaño de 2 3\n"
          ],
          "name": "stdout"
        }
      ]
    },
    {
      "cell_type": "code",
      "metadata": {
        "id": "eTpoAgABz1Lu",
        "colab_type": "code",
        "colab": {}
      },
      "source": [
        "#Next we will have a magic command"
      ],
      "execution_count": 0,
      "outputs": []
    },
    {
      "cell_type": "code",
      "metadata": {
        "id": "tvZ9naiB0-VX",
        "colab_type": "code",
        "outputId": "42295f66-ba68-4b5d-e0aa-996899b80fd4",
        "colab": {
          "base_uri": "https://localhost:8080/",
          "height": 85
        }
      },
      "source": [
        "%%bash\n",
        "echo 1\n",
        "echo 2\n",
        "echo 3\n",
        "echo 4"
      ],
      "execution_count": 0,
      "outputs": [
        {
          "output_type": "stream",
          "text": [
            "1\n",
            "2\n",
            "3\n",
            "4\n"
          ],
          "name": "stdout"
        }
      ]
    },
    {
      "cell_type": "code",
      "metadata": {
        "id": "JJcy0Ia-1ZFl",
        "colab_type": "code",
        "outputId": "d66a6253-9999-4cfc-ce30-a18d46009a6f",
        "colab": {
          "base_uri": "https://localhost:8080/",
          "height": 34
        }
      },
      "source": [
        ""
      ],
      "execution_count": 0,
      "outputs": [
        {
          "output_type": "stream",
          "text": [
            "UsageError: %%capture is a cell magic, but the cell body is empty.\n"
          ],
          "name": "stderr"
        }
      ]
    },
    {
      "cell_type": "code",
      "metadata": {
        "id": "GDzG_AMf3_JU",
        "colab_type": "code",
        "outputId": "253c8c5a-ca86-4fa0-b206-6f4134aac38b",
        "colab": {
          "base_uri": "https://localhost:8080/",
          "height": 34
        }
      },
      "source": [
        "%%file out1.txt\n",
        "Hola mundo\n",
        "Hola mundo segunda\n",
        "linea"
      ],
      "execution_count": 0,
      "outputs": [
        {
          "output_type": "stream",
          "text": [
            "Writing out1.txt\n"
          ],
          "name": "stdout"
        }
      ]
    },
    {
      "cell_type": "code",
      "metadata": {
        "id": "vwo7jRzO4M0b",
        "colab_type": "code",
        "outputId": "b2c66a9e-6578-4416-fa7b-0fffcd2c7d4b",
        "colab": {
          "base_uri": "https://localhost:8080/",
          "height": 34
        }
      },
      "source": [
        "%%html\n",
        "<!html>\n",
        "<b>hola mundo<b>\n",
        "</html>"
      ],
      "execution_count": 0,
      "outputs": [
        {
          "output_type": "display_data",
          "data": {
            "text/html": [
              "<!html>\n",
              "<b>hola mundo<b>\n",
              "</html>"
            ],
            "text/plain": [
              "<IPython.core.display.HTML object>"
            ]
          },
          "metadata": {
            "tags": []
          }
        }
      ]
    },
    {
      "cell_type": "code",
      "metadata": {
        "id": "74dNnZz04aSB",
        "colab_type": "code",
        "colab": {}
      },
      "source": [
        ""
      ],
      "execution_count": 0,
      "outputs": []
    },
    {
      "cell_type": "code",
      "metadata": {
        "id": "KzSnL4_i4wT3",
        "colab_type": "code",
        "outputId": "78f64ed3-3e4b-4e12-dbf9-0dfefb0fe86d",
        "colab": {
          "base_uri": "https://localhost:8080/",
          "height": 187
        }
      },
      "source": [
        "!seq -f\"Linea %g\" 10"
      ],
      "execution_count": 0,
      "outputs": [
        {
          "output_type": "stream",
          "text": [
            "Linea 1\n",
            "Linea 2\n",
            "Linea 3\n",
            "Linea 4\n",
            "Linea 5\n",
            "Linea 6\n",
            "Linea 7\n",
            "Linea 8\n",
            "Linea 9\n",
            "Linea 10\n"
          ],
          "name": "stdout"
        }
      ]
    },
    {
      "cell_type": "code",
      "metadata": {
        "id": "62haL-bW5oYe",
        "colab_type": "code",
        "colab": {}
      },
      "source": [
        "!echo hola mundo cruel > clases.txt"
      ],
      "execution_count": 0,
      "outputs": []
    },
    {
      "cell_type": "code",
      "metadata": {
        "id": "mhR-_jkR55_o",
        "colab_type": "code",
        "colab": {}
      },
      "source": [
        "!echo files has been updated >clases.txt"
      ],
      "execution_count": 0,
      "outputs": []
    },
    {
      "cell_type": "code",
      "metadata": {
        "id": "owaIyUB36HzQ",
        "colab_type": "code",
        "colab": {}
      },
      "source": [
        "!echo line has been appended >> clases.txt"
      ],
      "execution_count": 0,
      "outputs": []
    },
    {
      "cell_type": "code",
      "metadata": {
        "id": "jNhSzQFW6bqw",
        "colab_type": "code",
        "colab": {}
      },
      "source": [
        "!seq -f\"Linea%g\" 500 >out2"
      ],
      "execution_count": 0,
      "outputs": []
    },
    {
      "cell_type": "code",
      "metadata": {
        "id": "gcvVaSHQ6osL",
        "colab_type": "code",
        "outputId": "60b58ef8-14ae-43c1-c916-9b57ea01c529",
        "colab": {
          "base_uri": "https://localhost:8080/",
          "height": 1000
        }
      },
      "source": [
        "cat out2 #Print all the file"
      ],
      "execution_count": 0,
      "outputs": [
        {
          "output_type": "stream",
          "text": [
            "Linea1\n",
            "Linea2\n",
            "Linea3\n",
            "Linea4\n",
            "Linea5\n",
            "Linea6\n",
            "Linea7\n",
            "Linea8\n",
            "Linea9\n",
            "Linea10\n",
            "Linea11\n",
            "Linea12\n",
            "Linea13\n",
            "Linea14\n",
            "Linea15\n",
            "Linea16\n",
            "Linea17\n",
            "Linea18\n",
            "Linea19\n",
            "Linea20\n",
            "Linea21\n",
            "Linea22\n",
            "Linea23\n",
            "Linea24\n",
            "Linea25\n",
            "Linea26\n",
            "Linea27\n",
            "Linea28\n",
            "Linea29\n",
            "Linea30\n",
            "Linea31\n",
            "Linea32\n",
            "Linea33\n",
            "Linea34\n",
            "Linea35\n",
            "Linea36\n",
            "Linea37\n",
            "Linea38\n",
            "Linea39\n",
            "Linea40\n",
            "Linea41\n",
            "Linea42\n",
            "Linea43\n",
            "Linea44\n",
            "Linea45\n",
            "Linea46\n",
            "Linea47\n",
            "Linea48\n",
            "Linea49\n",
            "Linea50\n",
            "Linea51\n",
            "Linea52\n",
            "Linea53\n",
            "Linea54\n",
            "Linea55\n",
            "Linea56\n",
            "Linea57\n",
            "Linea58\n",
            "Linea59\n",
            "Linea60\n",
            "Linea61\n",
            "Linea62\n",
            "Linea63\n",
            "Linea64\n",
            "Linea65\n",
            "Linea66\n",
            "Linea67\n",
            "Linea68\n",
            "Linea69\n",
            "Linea70\n",
            "Linea71\n",
            "Linea72\n",
            "Linea73\n",
            "Linea74\n",
            "Linea75\n",
            "Linea76\n",
            "Linea77\n",
            "Linea78\n",
            "Linea79\n",
            "Linea80\n",
            "Linea81\n",
            "Linea82\n",
            "Linea83\n",
            "Linea84\n",
            "Linea85\n",
            "Linea86\n",
            "Linea87\n",
            "Linea88\n",
            "Linea89\n",
            "Linea90\n",
            "Linea91\n",
            "Linea92\n",
            "Linea93\n",
            "Linea94\n",
            "Linea95\n",
            "Linea96\n",
            "Linea97\n",
            "Linea98\n",
            "Linea99\n",
            "Linea100\n",
            "Linea101\n",
            "Linea102\n",
            "Linea103\n",
            "Linea104\n",
            "Linea105\n",
            "Linea106\n",
            "Linea107\n",
            "Linea108\n",
            "Linea109\n",
            "Linea110\n",
            "Linea111\n",
            "Linea112\n",
            "Linea113\n",
            "Linea114\n",
            "Linea115\n",
            "Linea116\n",
            "Linea117\n",
            "Linea118\n",
            "Linea119\n",
            "Linea120\n",
            "Linea121\n",
            "Linea122\n",
            "Linea123\n",
            "Linea124\n",
            "Linea125\n",
            "Linea126\n",
            "Linea127\n",
            "Linea128\n",
            "Linea129\n",
            "Linea130\n",
            "Linea131\n",
            "Linea132\n",
            "Linea133\n",
            "Linea134\n",
            "Linea135\n",
            "Linea136\n",
            "Linea137\n",
            "Linea138\n",
            "Linea139\n",
            "Linea140\n",
            "Linea141\n",
            "Linea142\n",
            "Linea143\n",
            "Linea144\n",
            "Linea145\n",
            "Linea146\n",
            "Linea147\n",
            "Linea148\n",
            "Linea149\n",
            "Linea150\n",
            "Linea151\n",
            "Linea152\n",
            "Linea153\n",
            "Linea154\n",
            "Linea155\n",
            "Linea156\n",
            "Linea157\n",
            "Linea158\n",
            "Linea159\n",
            "Linea160\n",
            "Linea161\n",
            "Linea162\n",
            "Linea163\n",
            "Linea164\n",
            "Linea165\n",
            "Linea166\n",
            "Linea167\n",
            "Linea168\n",
            "Linea169\n",
            "Linea170\n",
            "Linea171\n",
            "Linea172\n",
            "Linea173\n",
            "Linea174\n",
            "Linea175\n",
            "Linea176\n",
            "Linea177\n",
            "Linea178\n",
            "Linea179\n",
            "Linea180\n",
            "Linea181\n",
            "Linea182\n",
            "Linea183\n",
            "Linea184\n",
            "Linea185\n",
            "Linea186\n",
            "Linea187\n",
            "Linea188\n",
            "Linea189\n",
            "Linea190\n",
            "Linea191\n",
            "Linea192\n",
            "Linea193\n",
            "Linea194\n",
            "Linea195\n",
            "Linea196\n",
            "Linea197\n",
            "Linea198\n",
            "Linea199\n",
            "Linea200\n",
            "Linea201\n",
            "Linea202\n",
            "Linea203\n",
            "Linea204\n",
            "Linea205\n",
            "Linea206\n",
            "Linea207\n",
            "Linea208\n",
            "Linea209\n",
            "Linea210\n",
            "Linea211\n",
            "Linea212\n",
            "Linea213\n",
            "Linea214\n",
            "Linea215\n",
            "Linea216\n",
            "Linea217\n",
            "Linea218\n",
            "Linea219\n",
            "Linea220\n",
            "Linea221\n",
            "Linea222\n",
            "Linea223\n",
            "Linea224\n",
            "Linea225\n",
            "Linea226\n",
            "Linea227\n",
            "Linea228\n",
            "Linea229\n",
            "Linea230\n",
            "Linea231\n",
            "Linea232\n",
            "Linea233\n",
            "Linea234\n",
            "Linea235\n",
            "Linea236\n",
            "Linea237\n",
            "Linea238\n",
            "Linea239\n",
            "Linea240\n",
            "Linea241\n",
            "Linea242\n",
            "Linea243\n",
            "Linea244\n",
            "Linea245\n",
            "Linea246\n",
            "Linea247\n",
            "Linea248\n",
            "Linea249\n",
            "Linea250\n",
            "Linea251\n",
            "Linea252\n",
            "Linea253\n",
            "Linea254\n",
            "Linea255\n",
            "Linea256\n",
            "Linea257\n",
            "Linea258\n",
            "Linea259\n",
            "Linea260\n",
            "Linea261\n",
            "Linea262\n",
            "Linea263\n",
            "Linea264\n",
            "Linea265\n",
            "Linea266\n",
            "Linea267\n",
            "Linea268\n",
            "Linea269\n",
            "Linea270\n",
            "Linea271\n",
            "Linea272\n",
            "Linea273\n",
            "Linea274\n",
            "Linea275\n",
            "Linea276\n",
            "Linea277\n",
            "Linea278\n",
            "Linea279\n",
            "Linea280\n",
            "Linea281\n",
            "Linea282\n",
            "Linea283\n",
            "Linea284\n",
            "Linea285\n",
            "Linea286\n",
            "Linea287\n",
            "Linea288\n",
            "Linea289\n",
            "Linea290\n",
            "Linea291\n",
            "Linea292\n",
            "Linea293\n",
            "Linea294\n",
            "Linea295\n",
            "Linea296\n",
            "Linea297\n",
            "Linea298\n",
            "Linea299\n",
            "Linea300\n",
            "Linea301\n",
            "Linea302\n",
            "Linea303\n",
            "Linea304\n",
            "Linea305\n",
            "Linea306\n",
            "Linea307\n",
            "Linea308\n",
            "Linea309\n",
            "Linea310\n",
            "Linea311\n",
            "Linea312\n",
            "Linea313\n",
            "Linea314\n",
            "Linea315\n",
            "Linea316\n",
            "Linea317\n",
            "Linea318\n",
            "Linea319\n",
            "Linea320\n",
            "Linea321\n",
            "Linea322\n",
            "Linea323\n",
            "Linea324\n",
            "Linea325\n",
            "Linea326\n",
            "Linea327\n",
            "Linea328\n",
            "Linea329\n",
            "Linea330\n",
            "Linea331\n",
            "Linea332\n",
            "Linea333\n",
            "Linea334\n",
            "Linea335\n",
            "Linea336\n",
            "Linea337\n",
            "Linea338\n",
            "Linea339\n",
            "Linea340\n",
            "Linea341\n",
            "Linea342\n",
            "Linea343\n",
            "Linea344\n",
            "Linea345\n",
            "Linea346\n",
            "Linea347\n",
            "Linea348\n",
            "Linea349\n",
            "Linea350\n",
            "Linea351\n",
            "Linea352\n",
            "Linea353\n",
            "Linea354\n",
            "Linea355\n",
            "Linea356\n",
            "Linea357\n",
            "Linea358\n",
            "Linea359\n",
            "Linea360\n",
            "Linea361\n",
            "Linea362\n",
            "Linea363\n",
            "Linea364\n",
            "Linea365\n",
            "Linea366\n",
            "Linea367\n",
            "Linea368\n",
            "Linea369\n",
            "Linea370\n",
            "Linea371\n",
            "Linea372\n",
            "Linea373\n",
            "Linea374\n",
            "Linea375\n",
            "Linea376\n",
            "Linea377\n",
            "Linea378\n",
            "Linea379\n",
            "Linea380\n",
            "Linea381\n",
            "Linea382\n",
            "Linea383\n",
            "Linea384\n",
            "Linea385\n",
            "Linea386\n",
            "Linea387\n",
            "Linea388\n",
            "Linea389\n",
            "Linea390\n",
            "Linea391\n",
            "Linea392\n",
            "Linea393\n",
            "Linea394\n",
            "Linea395\n",
            "Linea396\n",
            "Linea397\n",
            "Linea398\n",
            "Linea399\n",
            "Linea400\n",
            "Linea401\n",
            "Linea402\n",
            "Linea403\n",
            "Linea404\n",
            "Linea405\n",
            "Linea406\n",
            "Linea407\n",
            "Linea408\n",
            "Linea409\n",
            "Linea410\n",
            "Linea411\n",
            "Linea412\n",
            "Linea413\n",
            "Linea414\n",
            "Linea415\n",
            "Linea416\n",
            "Linea417\n",
            "Linea418\n",
            "Linea419\n",
            "Linea420\n",
            "Linea421\n",
            "Linea422\n",
            "Linea423\n",
            "Linea424\n",
            "Linea425\n",
            "Linea426\n",
            "Linea427\n",
            "Linea428\n",
            "Linea429\n",
            "Linea430\n",
            "Linea431\n",
            "Linea432\n",
            "Linea433\n",
            "Linea434\n",
            "Linea435\n",
            "Linea436\n",
            "Linea437\n",
            "Linea438\n",
            "Linea439\n",
            "Linea440\n",
            "Linea441\n",
            "Linea442\n",
            "Linea443\n",
            "Linea444\n",
            "Linea445\n",
            "Linea446\n",
            "Linea447\n",
            "Linea448\n",
            "Linea449\n",
            "Linea450\n",
            "Linea451\n",
            "Linea452\n",
            "Linea453\n",
            "Linea454\n",
            "Linea455\n",
            "Linea456\n",
            "Linea457\n",
            "Linea458\n",
            "Linea459\n",
            "Linea460\n",
            "Linea461\n",
            "Linea462\n",
            "Linea463\n",
            "Linea464\n",
            "Linea465\n",
            "Linea466\n",
            "Linea467\n",
            "Linea468\n",
            "Linea469\n",
            "Linea470\n",
            "Linea471\n",
            "Linea472\n",
            "Linea473\n",
            "Linea474\n",
            "Linea475\n",
            "Linea476\n",
            "Linea477\n",
            "Linea478\n",
            "Linea479\n",
            "Linea480\n",
            "Linea481\n",
            "Linea482\n",
            "Linea483\n",
            "Linea484\n",
            "Linea485\n",
            "Linea486\n",
            "Linea487\n",
            "Linea488\n",
            "Linea489\n",
            "Linea490\n",
            "Linea491\n",
            "Linea492\n",
            "Linea493\n",
            "Linea494\n",
            "Linea495\n",
            "Linea496\n",
            "Linea497\n",
            "Linea498\n",
            "Linea499\n",
            "Linea500\n"
          ],
          "name": "stdout"
        }
      ]
    },
    {
      "cell_type": "code",
      "metadata": {
        "id": "BUzheQKQ6xK8",
        "colab_type": "code",
        "outputId": "c70077b0-dd55-4965-9119-b67a8cad9553",
        "colab": {
          "base_uri": "https://localhost:8080/",
          "height": 187
        }
      },
      "source": [
        "!head out2"
      ],
      "execution_count": 0,
      "outputs": [
        {
          "output_type": "stream",
          "text": [
            "Linea1\n",
            "Linea2\n",
            "Linea3\n",
            "Linea4\n",
            "Linea5\n",
            "Linea6\n",
            "Linea7\n",
            "Linea8\n",
            "Linea9\n",
            "Linea10\n"
          ],
          "name": "stdout"
        }
      ]
    },
    {
      "cell_type": "code",
      "metadata": {
        "id": "okLei0zl60mo",
        "colab_type": "code",
        "outputId": "4b55f2d3-3d85-400c-8d94-a1ab02194e79",
        "colab": {
          "base_uri": "https://localhost:8080/",
          "height": 187
        }
      },
      "source": [
        "!tail out2"
      ],
      "execution_count": 0,
      "outputs": [
        {
          "output_type": "stream",
          "text": [
            "Linea491\n",
            "Linea492\n",
            "Linea493\n",
            "Linea494\n",
            "Linea495\n",
            "Linea496\n",
            "Linea497\n",
            "Linea498\n",
            "Linea499\n",
            "Linea500\n"
          ],
          "name": "stdout"
        }
      ]
    },
    {
      "cell_type": "code",
      "metadata": {
        "id": "8hLO60Ks63ZT",
        "colab_type": "code",
        "outputId": "a4f9bbd3-5c80-4ceb-8aa1-530692d1ade1",
        "colab": {
          "base_uri": "https://localhost:8080/",
          "height": 130
        }
      },
      "source": [
        "!echo \"CustomerID, Customer\n",
        "   1, Customer A\n",
        "   2, Customer B\""
      ],
      "execution_count": 0,
      "outputs": [
        {
          "output_type": "error",
          "ename": "IndentationError",
          "evalue": "ignored",
          "traceback": [
            "\u001b[0;36m  File \u001b[0;32m\"<ipython-input-27-fcaf54c3f101>\"\u001b[0;36m, line \u001b[0;32m2\u001b[0m\n\u001b[0;31m    1, Customer A\u001b[0m\n\u001b[0m    ^\u001b[0m\n\u001b[0;31mIndentationError\u001b[0m\u001b[0;31m:\u001b[0m unexpected indent\n"
          ]
        }
      ]
    },
    {
      "cell_type": "code",
      "metadata": {
        "id": "nqA3WHKo7yCf",
        "colab_type": "code",
        "outputId": "a95ebc2e-e7f9-4986-92b2-9509a718bfec",
        "colab": {
          "base_uri": "https://localhost:8080/",
          "height": 130
        }
      },
      "source": [
        "!echo \"CustomerID, Customer\n",
        "1, Customer A\\\n",
        "2, Customer B\""
      ],
      "execution_count": 0,
      "outputs": [
        {
          "output_type": "error",
          "ename": "SyntaxError",
          "evalue": "ignored",
          "traceback": [
            "\u001b[0;36m  File \u001b[0;32m\"<ipython-input-29-dbb5a77cfb76>\"\u001b[0;36m, line \u001b[0;32m2\u001b[0m\n\u001b[0;31m    1, Customer A2, Customer B\"\u001b[0m\n\u001b[0m                 ^\u001b[0m\n\u001b[0;31mSyntaxError\u001b[0m\u001b[0;31m:\u001b[0m invalid syntax\n"
          ]
        }
      ]
    },
    {
      "cell_type": "code",
      "metadata": {
        "id": "fLOES7se8R_m",
        "colab_type": "code",
        "outputId": "438a4f8c-b9fb-4e21-b16b-2a8670632e27",
        "colab": {
          "base_uri": "https://localhost:8080/",
          "height": 119
        }
      },
      "source": [
        "!seq -f \"linea %g\" 10 2 20"
      ],
      "execution_count": 0,
      "outputs": [
        {
          "output_type": "stream",
          "text": [
            "linea 10\n",
            "linea 12\n",
            "linea 14\n",
            "linea 16\n",
            "linea 18\n",
            "linea 20\n"
          ],
          "name": "stdout"
        }
      ]
    },
    {
      "cell_type": "code",
      "metadata": {
        "id": "aW31UTg38_rS",
        "colab_type": "code",
        "colab": {}
      },
      "source": [
        "%%bash\n",
        "seq -f\"linea %g\" 1 1 3 > out1.txt\n",
        "seq -f\"linea %g\" 4 1 6 > out2.txt\n",
        "seq -f\"linea %g\" 7 1 10> out3.txt\n",
        "cat out1.txt out2.txt out3.txt > outall.txt"
      ],
      "execution_count": 0,
      "outputs": []
    },
    {
      "cell_type": "code",
      "metadata": {
        "id": "8jM3dnLB-IPE",
        "colab_type": "code",
        "outputId": "a67a8bdb-ba37-4d4e-d3a3-1ee1596c079f",
        "colab": {
          "base_uri": "https://localhost:8080/",
          "height": 85
        }
      },
      "source": [
        "!seq -f\"linea %g\" 7 1 10"
      ],
      "execution_count": 0,
      "outputs": [
        {
          "output_type": "stream",
          "text": [
            "linea 7\n",
            "linea 8\n",
            "linea 9\n",
            "linea 10\n"
          ],
          "name": "stdout"
        }
      ]
    },
    {
      "cell_type": "code",
      "metadata": {
        "id": "fbOrlRHP-eM3",
        "colab_type": "code",
        "outputId": "56b8995d-0afe-4f00-a1e9-e79094d203bc",
        "colab": {
          "base_uri": "https://localhost:8080/",
          "height": 34
        }
      },
      "source": [
        "x = !ls -1 *.txt\n",
        "print(x)"
      ],
      "execution_count": 0,
      "outputs": [
        {
          "output_type": "stream",
          "text": [
            "['clases.txt', 'out1.txt', 'out2.txt', 'out3.txt', 'outall.txt']\n"
          ],
          "name": "stdout"
        }
      ]
    },
    {
      "cell_type": "code",
      "metadata": {
        "id": "PY2tqKkv-p4W",
        "colab_type": "code",
        "colab": {}
      },
      "source": [
        "!echo \"MY FILE\" > OUT_FILE.CSV"
      ],
      "execution_count": 0,
      "outputs": []
    },
    {
      "cell_type": "code",
      "metadata": {
        "id": "pD-XTgJn_KER",
        "colab_type": "code",
        "colab": {}
      },
      "source": [
        "!seq -f\"linea %g\" 100 1 500 > OUT_FILE.CSV"
      ],
      "execution_count": 0,
      "outputs": []
    },
    {
      "cell_type": "code",
      "metadata": {
        "id": "t-7lvoTB_t4L",
        "colab_type": "code",
        "colab": {}
      },
      "source": [
        "!seq -f 'linea %g' 3 > out.1"
      ],
      "execution_count": 0,
      "outputs": []
    },
    {
      "cell_type": "code",
      "metadata": {
        "id": "9ADy2po3_2Pw",
        "colab_type": "code",
        "outputId": "120c15d3-a639-434a-f584-82c726a28e1e",
        "colab": {
          "base_uri": "https://localhost:8080/",
          "height": 170
        }
      },
      "source": [
        "cat out.1 out.1 out.1"
      ],
      "execution_count": 0,
      "outputs": [
        {
          "output_type": "stream",
          "text": [
            "linea 1\n",
            "linea 2\n",
            "linea 3\n",
            "linea 1\n",
            "linea 2\n",
            "linea 3\n",
            "linea 1\n",
            "linea 2\n",
            "linea 3\n"
          ],
          "name": "stdout"
        }
      ]
    },
    {
      "cell_type": "code",
      "metadata": {
        "id": "wtJoN34f_69f",
        "colab_type": "code",
        "outputId": "f976063e-631e-4c67-edef-fedff5bb955a",
        "colab": {
          "base_uri": "https://localhost:8080/",
          "height": 170
        }
      },
      "source": [
        "cat out.1 out.1 out.1 | sort"
      ],
      "execution_count": 0,
      "outputs": [
        {
          "output_type": "stream",
          "text": [
            "linea 1\n",
            "linea 1\n",
            "linea 1\n",
            "linea 2\n",
            "linea 2\n",
            "linea 2\n",
            "linea 3\n",
            "linea 3\n",
            "linea 3\n"
          ],
          "name": "stdout"
        }
      ]
    },
    {
      "cell_type": "code",
      "metadata": {
        "id": "7Dfo5HTkBAoO",
        "colab_type": "code",
        "colab": {}
      },
      "source": [
        "!seq -f 'linea %g' 3 > out.1"
      ],
      "execution_count": 0,
      "outputs": []
    },
    {
      "cell_type": "code",
      "metadata": {
        "id": "m5MLuI0jBVto",
        "colab_type": "code",
        "outputId": "fd06d47c-cf62-4517-a5d8-0bdcf8e77f7a",
        "colab": {
          "base_uri": "https://localhost:8080/",
          "height": 170
        }
      },
      "source": [
        "cat out.1 out.1 out.1 | sort > out.2 && cat out.2"
      ],
      "execution_count": 0,
      "outputs": [
        {
          "output_type": "stream",
          "text": [
            "linea 1\n",
            "linea 1\n",
            "linea 1\n",
            "linea 2\n",
            "linea 2\n",
            "linea 2\n",
            "linea 3\n",
            "linea 3\n",
            "linea 3\n"
          ],
          "name": "stdout"
        }
      ]
    },
    {
      "cell_type": "code",
      "metadata": {
        "id": "HHbdSyc0BkvQ",
        "colab_type": "code",
        "outputId": "0c6258dc-eb32-4e77-a710-7c7b7ef1af51",
        "colab": {
          "base_uri": "https://localhost:8080/",
          "height": 68
        }
      },
      "source": [
        "!cat out.1 out.1 out.1 | sort| uniq #Es evita los campos repetidos"
      ],
      "execution_count": 0,
      "outputs": [
        {
          "output_type": "stream",
          "text": [
            "linea 1\n",
            "linea 2\n",
            "linea 3\n"
          ],
          "name": "stdout"
        }
      ]
    },
    {
      "cell_type": "code",
      "metadata": {
        "id": "aa3gvyxmKRks",
        "colab_type": "code",
        "outputId": "eccd0b48-c3b4-4bee-e49f-f346c214f77f",
        "colab": {
          "base_uri": "https://localhost:8080/",
          "height": 34
        }
      },
      "source": [
        "!echo 'h-o-l-a- -m-u-n-do' > out.1\n",
        "!tr '-' '=' < out.1"
      ],
      "execution_count": 0,
      "outputs": [
        {
          "output_type": "stream",
          "text": [
            "h=o=l=a= =m=u=n=do\n"
          ],
          "name": "stdout"
        }
      ]
    },
    {
      "cell_type": "code",
      "metadata": {
        "id": "2FDcquhTMMiZ",
        "colab_type": "code",
        "outputId": "df355992-a25e-4cbd-b033-ccbd0ae10ffb",
        "colab": {
          "base_uri": "https://localhost:8080/",
          "height": 34
        }
      },
      "source": [
        "!echo 'h-o-l-a- -m-u-n-do' > out.1\n",
        "!tr -d '-' < out.1\n",
        "\n"
      ],
      "execution_count": 0,
      "outputs": [
        {
          "output_type": "stream",
          "text": [
            "hola mundo\n"
          ],
          "name": "stdout"
        }
      ]
    },
    {
      "cell_type": "code",
      "metadata": {
        "id": "Hw4Vqb0FMU7H",
        "colab_type": "code",
        "colab": {}
      },
      "source": [
        "%%bash\n",
        "cat > out.1 <<EOF\n",
        "Date, Year, CustomerID, Value\n",
        "2013-01-12, 2013, 1, 100\n",
        "2014-05-12, 2014, 1, 100\n",
        "2013-02-25, 2013, 2, 200\n",
        "2013-04-04, 2013, 1, 100\n",
        "2013-06-21, 2013, 2, 200\n",
        "2014-05-12, 2014, 1, 100\n",
        "2014-05-12, 2014, 2, 200\n",
        "2013-02-28, 2013, 1, 100\n",
        "2013-08-02, 2013, 1, 100\n",
        "EOF\n"
      ],
      "execution_count": 0,
      "outputs": []
    },
    {
      "cell_type": "code",
      "metadata": {
        "id": "xfy9iPqzMoCy",
        "colab_type": "code",
        "outputId": "ff12dc7c-e10d-45c0-ea04-d8c5f560f851",
        "colab": {
          "base_uri": "https://localhost:8080/",
          "height": 187
        }
      },
      "source": [
        "!head out.1 -n 1 |tr '[:upper:]'  '[:lower:]' > out.txt && tail +2 out.1 >>out.txt && cat out.txt"
      ],
      "execution_count": 0,
      "outputs": [
        {
          "output_type": "stream",
          "text": [
            "date, year, customerid, value\n",
            "2013-01-12, 2013, 1, 100\n",
            "2014-05-12, 2014, 1, 100\n",
            "2013-02-25, 2013, 2, 200\n",
            "2013-04-04, 2013, 1, 100\n",
            "2013-06-21, 2013, 2, 200\n",
            "2014-05-12, 2014, 1, 100\n",
            "2014-05-12, 2014, 2, 200\n",
            "2013-02-28, 2013, 1, 100\n",
            "2013-08-02, 2013, 1, 100\n"
          ],
          "name": "stdout"
        }
      ]
    },
    {
      "cell_type": "code",
      "metadata": {
        "id": "h-1GNbCeNwpS",
        "colab_type": "code",
        "outputId": "df7dfc0e-1de2-4259-ee95-ee6c0844365c",
        "colab": {
          "base_uri": "https://localhost:8080/",
          "height": 170
        }
      },
      "source": [
        ""
      ],
      "execution_count": 0,
      "outputs": [
        {
          "output_type": "stream",
          "text": [
            "2013-01-12, 2013, 1, 100\n",
            "2014-05-12, 2014, 1, 100\n",
            "2013-02-25, 2013, 2, 200\n",
            "2013-04-04, 2013, 1, 100\n",
            "2013-06-21, 2013, 2, 200\n",
            "2014-05-12, 2014, 1, 100\n",
            "2014-05-12, 2014, 2, 200\n",
            "2013-02-28, 2013, 1, 100\n",
            "2013-08-02, 2013, 1, 100\n"
          ],
          "name": "stdout"
        }
      ]
    },
    {
      "cell_type": "code",
      "metadata": {
        "id": "f4B5lQ2_SKM8",
        "colab_type": "code",
        "outputId": "e19c55e4-ed3d-4c46-aa23-8449d57a02f1",
        "colab": {
          "base_uri": "https://localhost:8080/",
          "height": 85
        }
      },
      "source": [
        "!head -n 1 < out.1 | tr ',' '\\n' "
      ],
      "execution_count": 103,
      "outputs": [
        {
          "output_type": "stream",
          "text": [
            "Date\n",
            " Year\n",
            " CustomerID\n",
            " Value\n"
          ],
          "name": "stdout"
        }
      ]
    },
    {
      "cell_type": "code",
      "metadata": {
        "id": "aqScx1f5VKZY",
        "colab_type": "code",
        "colab": {
          "base_uri": "https://localhost:8080/",
          "height": 34
        },
        "outputId": "c3deaef3-e9b1-4fd0-9d0e-ad0f9f655d30"
      },
      "source": [
        "!head -n 1 < out.1 | tr ',' '\\n' | wc -l"
      ],
      "execution_count": 105,
      "outputs": [
        {
          "output_type": "stream",
          "text": [
            "4\n"
          ],
          "name": "stdout"
        }
      ]
    },
    {
      "cell_type": "code",
      "metadata": {
        "id": "iU3tbFW7WO9w",
        "colab_type": "code",
        "colab": {
          "base_uri": "https://localhost:8080/",
          "height": 68
        },
        "outputId": "aac6bad2-3d59-464e-8448-88dd17553766"
      },
      "source": [
        "%%bash\n",
        "echo \"123456790\n",
        "abcdefghi\n",
        "jklmnopqr\" > out.1\n",
        "cut -c3-5 out.1"
      ],
      "execution_count": 106,
      "outputs": [
        {
          "output_type": "stream",
          "text": [
            "345\n",
            "cde\n",
            "lmn\n"
          ],
          "name": "stdout"
        }
      ]
    }
  ]
}